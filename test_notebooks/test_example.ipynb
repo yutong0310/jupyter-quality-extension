{
 "cells": [
  {
   "cell_type": "code",
   "execution_count": null,
   "id": "28e36996-022e-4a70-9cb1-5bd9af21713a",
   "metadata": {},
   "outputs": [],
   "source": [
    "import math\n",
    "import os\n",
    "import numpy as np"
   ]
  },
  {
   "cell_type": "code",
   "execution_count": 2,
   "id": "e4ae3773-56a0-4d22-891f-2da79fca3c7e",
   "metadata": {},
   "outputs": [],
   "source": [
    "def square(x):\n",
    "    return x * x"
   ]
  },
  {
   "cell_type": "code",
   "execution_count": null,
   "id": "e121abd8-44f9-41a2-8db0-6de486e37a04",
   "metadata": {},
   "outputs": [],
   "source": [
    "def classify_number(n):\n",
    "    if n > 0:\n",
    "        return \"positive\"\n",
    "    elif n < 0:\n",
    "        return \"negative\"\n",
    "    else:\n",
    "        return \"zero\""
   ]
  },
  {
   "cell_type": "code",
   "execution_count": null,
   "id": "86a722d8-3517-43f4-83b5-aafa1e389c42",
   "metadata": {},
   "outputs": [],
   "source": [
    "assert classify_number(5) == \"positive\"\n",
    "assert classify_number(-3) == \"negative\"\n",
    "assert classify_number(0) == \"zero\""
   ]
  },
  {
   "cell_type": "code",
   "execution_count": 3,
   "id": "f0bb9dab-c770-429d-b8f2-762c80fe7420",
   "metadata": {},
   "outputs": [
    {
     "name": "stdout",
     "output_type": "stream",
     "text": [
      "[0, 1, 4, 9, 16]\n"
     ]
    }
   ],
   "source": [
    "results = []\n",
    "for i in range(5):\n",
    "    results.append(square(i))\n",
    "print(results)"
   ]
  },
  {
   "cell_type": "code",
   "execution_count": null,
   "id": "596bc0ba-03e1-4c43-af81-974a50db4ddd",
   "metadata": {},
   "outputs": [],
   "source": [
    "def divide(x, y):\n",
    "    if y == 0:\n",
    "        raise ValueError(\"Cannot divide by zero\")\n",
    "    return x / y"
   ]
  }
 ],
 "metadata": {
  "kernelspec": {
   "display_name": "Python 3 (ipykernel)",
   "language": "python",
   "name": "python3"
  },
  "language_info": {
   "codemirror_mode": {
    "name": "ipython",
    "version": 3
   },
   "file_extension": ".py",
   "mimetype": "text/x-python",
   "name": "python",
   "nbconvert_exporter": "python",
   "pygments_lexer": "ipython3",
   "version": "3.13.2"
  }
 },
 "nbformat": 4,
 "nbformat_minor": 5
}
